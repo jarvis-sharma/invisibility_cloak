{
 "cells": [
  {
   "cell_type": "code",
   "execution_count": 2,
   "metadata": {},
   "outputs": [],
   "source": [
    "import cv2 \n",
    "import time\n",
    "import numpy as np\n",
    "cap=cv2.VideoCapture(0)\n",
    "time.sleep(3)\n",
    "for x in range(30):\n",
    "    _,img=cap.read()\n",
    "    frame=img\n",
    "while(True):\n",
    "    _,img=cap.read()\n",
    "    hsv=cv2.cvtColor(img,cv2.COLOR_BGR2HSV)\n",
    "    l1=np.array([0,100,70])\n",
    "    u1=np.array([10,255,255])\n",
    "    m1=cv2.inRange(hsv,l1,u1)\n",
    "    l2=np.array([170,100,70])\n",
    "    u2=np.array([180,255,255])\n",
    "    m2=cv2.inRange(hsv,l2,u2)\n",
    "    m=m1+m2\n",
    "    m=cv2.morphologyEx(m,cv2.MORPH_OPEN, np.ones((3,3),np.uint8),iterations=2)\n",
    "    m=cv2.dilate(m,np.ones((3,3),np.uint8),iterations=2)\n",
    "    m2=cv2.bitwise_not(m)\n",
    "    r1=cv2.bitwise_and(frame,frame,mask=m)\n",
    "    r2=cv2.bitwise_and(img,img,mask=m2)\n",
    "    output=cv2.add(r1,r2,)\n",
    "    cv2.imshow('output',output)\n",
    "    k=cv2.waitKey(10)\n",
    "    if k & 0xFF == 27: # esc key\n",
    "        break\n",
    "cap.release()        \n",
    "cv2.destroyAllWindows()"
   ]
  },
  {
   "cell_type": "code",
   "execution_count": null,
   "metadata": {},
   "outputs": [],
   "source": []
  }
 ],
 "metadata": {
  "kernelspec": {
   "display_name": "Python 3",
   "language": "python",
   "name": "python3"
  },
  "language_info": {
   "codemirror_mode": {
    "name": "ipython",
    "version": 3
   },
   "file_extension": ".py",
   "mimetype": "text/x-python",
   "name": "python",
   "nbconvert_exporter": "python",
   "pygments_lexer": "ipython3",
   "version": "3.7.4"
  }
 },
 "nbformat": 4,
 "nbformat_minor": 2
}
